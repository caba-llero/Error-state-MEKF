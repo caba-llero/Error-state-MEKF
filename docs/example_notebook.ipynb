{
  "cells": [
    {
      "cell_type": "markdown",
      "metadata": {},
      "source": [
        "# Error State MEKF Example\n",
        "\n",
        "This notebook demonstrates the basic usage of the Error State Multiplicative Extended Kalman Filter for spacecraft attitude estimation.\n"
      ]
    },
    {
      "cell_type": "code",
      "execution_count": null,
      "metadata": {
        "vscode": {
          "languageId": "plaintext"
        }
      },
      "outputs": [],
      "source": [
        "import numpy as np\n",
        "import matplotlib.pyplot as plt\n",
        "import sys\n",
        "import os\n",
        "\n",
        "# Add the parent directory to the path to import the modules\n",
        "sys.path.insert(0, os.path.abspath('..'))\n",
        "import utils as u\n",
        "import importlib\n",
        "importlib.reload(u)\n"
      ]
    },
    {
      "cell_type": "markdown",
      "metadata": {},
      "source": [
        "## Simulation Parameters\n",
        "\n",
        "Let's set up the basic parameters for our attitude estimation simulation:\n"
      ]
    },
    {
      "cell_type": "code",
      "execution_count": null,
      "metadata": {
        "vscode": {
          "languageId": "plaintext"
        }
      },
      "outputs": [],
      "source": [
        "# Time parameters\n",
        "t_max = 20*90  # maximum integration time [s]\n",
        "dt = 0.01      # integration timestep [s]\n",
        "\n",
        "# Sensor parameters\n",
        "sigma_startracker = 6  # star tracker accuracy [arcsec]\n",
        "sigma_v = 10**0.5 * 1e-6  # gyro ARW [rad/s/sqrt(Hz)]\n",
        "sigma_u = 10**0.5 * 1e-9  # gyro RRW [rad/s^1.5]\n",
        "freq_startracker = 1   # star tracker frequency [Hz]\n",
        "freq_gyro = 10         # gyro frequency [Hz]\n",
        "\n",
        "# Constants\n",
        "I3 = np.eye(3)\n",
        "pi = np.pi\n",
        "arcsec_to_rad = pi / (180 * 3600)\n",
        "degh_to_rads = pi / (180 * 3600)\n"
      ]
    },
    {
      "cell_type": "markdown",
      "metadata": {},
      "source": [
        "## Define True Angular Velocity\n",
        "\n",
        "We'll use a realistic angular velocity profile for a spacecraft:\n"
      ]
    },
    {
      "cell_type": "code",
      "execution_count": null,
      "metadata": {
        "vscode": {
          "languageId": "plaintext"
        }
      },
      "outputs": [],
      "source": [
        "def w_t_fun(t):\n",
        "    \"\"\"True angular velocity profile\"\"\"\n",
        "    w1 = 0.1*np.sin(0.01*t) * pi/180\n",
        "    w2 = 0.1*np.sin(0.0085*t) * pi/180  \n",
        "    w3 = 0.1*np.cos(0.0085*t) * pi/180\n",
        "    return np.vstack((w1, w2, w3))\n",
        "\n",
        "# Generate time array and true angular velocity\n",
        "times = np.arange(0, t_max, dt)\n",
        "w_t_l = w_t_fun(times)\n",
        "\n",
        "plt.figure(figsize=(12, 8))\n",
        "plt.subplot(3, 1, 1)\n",
        "plt.plot(times, w_t_l[0, :]*180/pi, 'r', label='ω₁')\n",
        "plt.ylabel('Angular Velocity (deg/s)')\n",
        "plt.legend()\n",
        "plt.grid(True)\n",
        "\n",
        "plt.subplot(3, 1, 2)\n",
        "plt.plot(times, w_t_l[1, :]*180/pi, 'g', label='ω₂')\n",
        "plt.ylabel('Angular Velocity (deg/s)')\n",
        "plt.legend()\n",
        "plt.grid(True)\n",
        "\n",
        "plt.subplot(3, 1, 3)\n",
        "plt.plot(times, w_t_l[2, :]*180/pi, 'b', label='ω₃')\n",
        "plt.xlabel('Time (s)')\n",
        "plt.ylabel('Angular Velocity (deg/s)')\n",
        "plt.legend()\n",
        "plt.grid(True)\n",
        "\n",
        "plt.tight_layout()\n",
        "plt.show()\n"
      ]
    },
    {
      "cell_type": "markdown",
      "metadata": {},
      "source": [
        "## Initialize the Simulation\n",
        "\n",
        "Now let's set up the initial conditions and run the MEKF simulation:\n"
      ]
    },
    {
      "cell_type": "code",
      "execution_count": null,
      "metadata": {
        "vscode": {
          "languageId": "plaintext"
        }
      },
      "outputs": [],
      "source": [
        "# Initial bias estimate (perfect for this example)\n",
        "B_h_0 = np.array([0, 0, 0])\n",
        "\n",
        "# Initial attitude quaternion (truth)\n",
        "q_t_0 = np.array([1, 0, 0, 1]) / 2**0.5\n",
        "\n",
        "# Measurement noise parameters\n",
        "R = I3 * (sigma_startracker*arcsec_to_rad)**2\n",
        "Q_init = u.Q(sigma_v, sigma_u, dt, I3)\n",
        "\n",
        "# Random number generator\n",
        "rng = np.random.default_rng(seed=1)\n",
        "\n",
        "print(f\"Initial quaternion: {q_t_0}\")\n",
        "print(f\"Measurement noise covariance R: {R}\")\n",
        "print(f\"Process noise covariance Q: {Q_init}\")\n"
      ]
    },
    {
      "cell_type": "markdown",
      "metadata": {},
      "source": [
        "## Run the Simulation\n",
        "\n",
        "This would run the full MEKF simulation. For the complete code, see the `ekf.py` file in the main directory.\n"
      ]
    },
    {
      "cell_type": "code",
      "execution_count": null,
      "metadata": {
        "vscode": {
          "languageId": "plaintext"
        }
      },
      "outputs": [],
      "source": [
        "# Note: This is a simplified version. See ekf.py for the complete implementation.\n",
        "print(\"Simulation setup complete!\")\n",
        "print(f\"Simulation time: {t_max}s\")\n",
        "print(f\"Time step: {dt}s\")\n",
        "print(f\"Number of time steps: {len(times)}\")\n",
        "\n",
        "# The complete simulation includes:\n",
        "# 1. Ground truth propagation\n",
        "# 2. Gyro measurements with bias and noise\n",
        "# 3. Star tracker measurements with noise  \n",
        "# 4. MEKF prediction and update steps\n",
        "# 5. Error analysis and plotting\n"
      ]
    }
  ],
  "metadata": {
    "language_info": {
      "name": "python"
    }
  },
  "nbformat": 4,
  "nbformat_minor": 2
}
